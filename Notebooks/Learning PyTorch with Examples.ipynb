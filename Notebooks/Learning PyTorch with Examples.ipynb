{
 "cells": [
  {
   "cell_type": "markdown",
   "metadata": {},
   "source": [
    "# Learning PyTorch with Examples"
   ]
  },
  {
   "cell_type": "markdown",
   "metadata": {},
   "source": [
    "This tutorial introduces the fundamental concepts of PyTorch through self-contained examples."
   ]
  },
  {
   "cell_type": "markdown",
   "metadata": {},
   "source": [
    "At its core, PyTorch provides two main features:\n",
    "- An n-dimensional Tensor, similar to numpy but can run on GPUs.\n",
    "- Automatic differentiation for building and training neural networks."
   ]
  },
  {
   "cell_type": "markdown",
   "metadata": {},
   "source": [
    "## Tensors"
   ]
  },
  {
   "cell_type": "markdown",
   "metadata": {},
   "source": [
    "### Warm-up: numpy"
   ]
  },
  {
   "cell_type": "code",
   "execution_count": 1,
   "metadata": {},
   "outputs": [
    {
     "name": "stdout",
     "output_type": "stream",
     "text": [
      "0 28612268.069293723\n",
      "1 24329791.402298294\n",
      "2 23349080.73918183\n",
      "3 22425203.60995101\n",
      "4 19900338.50380317\n",
      "5 15672932.242917165\n",
      "6 10966099.582792219\n",
      "7 7033742.05234842\n",
      "8 4353001.436725734\n",
      "9 2735936.50850668\n",
      "10 1810916.582864869\n",
      "11 1282601.9540117942\n",
      "12 969467.8190234841\n",
      "13 772321.3543269017\n",
      "14 638641.7318941832\n",
      "15 541562.6372106137\n",
      "16 466912.24917197315\n",
      "17 407079.12646977033\n",
      "18 357679.58401681925\n",
      "19 316142.626768025\n",
      "20 280722.17191148567\n",
      "21 250255.13442937713\n",
      "22 223844.38731136144\n",
      "23 200803.69442386585\n",
      "24 180625.4351810698\n",
      "25 162869.57800816302\n",
      "26 147197.1013473553\n",
      "27 133318.7366378346\n",
      "28 121003.21255938319\n",
      "29 110021.0134336981\n",
      "30 100213.34443670136\n",
      "31 91436.32814021475\n",
      "32 83555.13425711519\n",
      "33 76471.78379979578\n",
      "34 70091.21027736647\n",
      "35 64331.29271359629\n",
      "36 59123.344061712975\n",
      "37 54405.47924422243\n",
      "38 50125.419017404005\n",
      "39 46231.579469530254\n",
      "40 42690.25896875652\n",
      "41 39469.43152328124\n",
      "42 36532.364961245185\n",
      "43 33848.42669487665\n",
      "44 31393.037560725516\n",
      "45 29143.619460917136\n",
      "46 27080.694383980797\n",
      "47 25186.344775478778\n",
      "48 23446.523550740152\n",
      "49 21846.929474967335\n",
      "50 20374.177714348596\n",
      "51 19016.580763321697\n",
      "52 17763.324236745735\n",
      "53 16604.60693404278\n",
      "54 15533.397837431447\n",
      "55 14542.144301958419\n",
      "56 13624.177899482971\n",
      "57 12772.111175749113\n",
      "58 11981.02284186719\n",
      "59 11245.944877237072\n",
      "60 10563.18707116009\n",
      "61 9927.812957176255\n",
      "62 9336.25984318733\n",
      "63 8785.00725892441\n",
      "64 8270.569664757579\n",
      "65 7790.214921973106\n",
      "66 7341.71412155193\n",
      "67 6922.3911983002\n",
      "68 6530.2344740618855\n",
      "69 6163.496718378661\n",
      "70 5820.030035417434\n",
      "71 5497.969473528401\n",
      "72 5196.14270723375\n",
      "73 4912.979033464621\n",
      "74 4647.137068888839\n",
      "75 4397.326174939113\n",
      "76 4162.741722592204\n",
      "77 3942.177835129623\n",
      "78 3734.6927106683997\n",
      "79 3539.4194495356705\n",
      "80 3355.528803302719\n",
      "81 3182.241841626576\n",
      "82 3018.9250897157217\n",
      "83 2864.9373132136307\n",
      "84 2719.65654162167\n",
      "85 2582.5831151149096\n",
      "86 2453.117967422994\n",
      "87 2330.8236544661904\n",
      "88 2215.2250292973135\n",
      "89 2105.9751500967072\n",
      "90 2002.6064540879026\n",
      "91 1904.8202744358382\n",
      "92 1812.3288164963396\n",
      "93 1724.7190907062152\n",
      "94 1641.7394130239186\n",
      "95 1563.2195401138533\n",
      "96 1488.7321885529218\n",
      "97 1418.112376205278\n",
      "98 1351.180307656769\n",
      "99 1287.725018826568\n",
      "100 1227.5294474765303\n",
      "101 1170.3789991262308\n",
      "102 1116.1183337114053\n",
      "103 1064.5765612879595\n",
      "104 1015.6179539967382\n",
      "105 969.1157456239711\n",
      "106 924.8974957038181\n",
      "107 882.8367755941028\n",
      "108 842.8521295512712\n",
      "109 804.7916303627455\n",
      "110 768.5823871936336\n",
      "111 734.1338260086031\n",
      "112 701.3319802178502\n",
      "113 670.0939290707382\n",
      "114 640.345570502372\n",
      "115 612.0089481561164\n",
      "116 585.0263457459138\n",
      "117 559.2950732655084\n",
      "118 534.7618702932625\n",
      "119 511.37801511902296\n",
      "120 489.0851166972904\n",
      "121 467.82328967432244\n",
      "122 447.5307368333988\n",
      "123 428.17448378771246\n",
      "124 409.70833283698056\n",
      "125 392.08434573624055\n",
      "126 375.2596520650676\n",
      "127 359.2080410743891\n",
      "128 343.8707751287641\n",
      "129 329.2172972639642\n",
      "130 315.22698873357695\n",
      "131 301.8640926022258\n",
      "132 289.091253864681\n",
      "133 276.88470643147184\n",
      "134 265.22590408374793\n",
      "135 254.08211287800236\n",
      "136 243.4242397533837\n",
      "137 233.24319937191248\n",
      "138 223.50088755774243\n",
      "139 214.1817166460006\n",
      "140 205.27029241833083\n",
      "141 196.74611246553056\n",
      "142 188.5901764569895\n",
      "143 180.78662734758205\n",
      "144 173.32316001024896\n",
      "145 166.17698603501836\n",
      "146 159.33746801925076\n",
      "147 152.79532915623835\n",
      "148 146.52973240991852\n",
      "149 140.5309283168736\n",
      "150 134.78619922416806\n",
      "151 129.28495372730816\n",
      "152 124.0174687165061\n",
      "153 118.97288915234722\n",
      "154 114.14129899116743\n",
      "155 109.51141094491514\n",
      "156 105.07639077006215\n",
      "157 100.82931752487119\n",
      "158 96.75940651830095\n",
      "159 92.85745943963016\n",
      "160 89.118321473286\n",
      "161 85.53451234894197\n",
      "162 82.09901060051419\n",
      "163 78.80772443698692\n",
      "164 75.65125164958106\n",
      "165 72.62526362006818\n",
      "166 69.72397889295505\n",
      "167 66.94380860878488\n",
      "168 64.27881371770725\n",
      "169 61.72190502414736\n",
      "170 59.26956295727112\n",
      "171 56.91746771570148\n",
      "172 54.66106076457213\n",
      "173 52.49839246721235\n",
      "174 50.42275500342099\n",
      "175 48.430533379228066\n",
      "176 46.51997080860289\n",
      "177 44.68744547168579\n",
      "178 42.92810496615979\n",
      "179 41.23982370825898\n",
      "180 39.62038692060693\n",
      "181 38.06571743645955\n",
      "182 36.574191943358414\n",
      "183 35.14241337680368\n",
      "184 33.76762872183562\n",
      "185 32.447518659169134\n",
      "186 31.181307775293227\n",
      "187 29.96509617652856\n",
      "188 28.796984507497715\n",
      "189 27.676024449587693\n",
      "190 26.599937944577015\n",
      "191 25.565964892046644\n",
      "192 24.5729324754465\n",
      "193 23.62021108318406\n",
      "194 22.704825998173945\n",
      "195 21.825931261702493\n",
      "196 20.98155487783378\n",
      "197 20.17043047304783\n",
      "198 19.391224361596105\n",
      "199 18.643126559541507\n",
      "200 17.92447569848712\n",
      "201 17.233617830974424\n",
      "202 16.569990758395893\n",
      "203 15.932790664196474\n",
      "204 15.320661340444639\n",
      "205 14.732284627995078\n",
      "206 14.16707172501562\n",
      "207 13.623777463215864\n",
      "208 13.101602025987189\n",
      "209 12.600140205093618\n",
      "210 12.118039409993951\n",
      "211 11.654696409208169\n",
      "212 11.209604047305202\n",
      "213 10.78166404147752\n",
      "214 10.370379540494497\n",
      "215 9.974984360734474\n",
      "216 9.595126672624009\n",
      "217 9.229833397089779\n",
      "218 8.87866602164307\n",
      "219 8.541362268077663\n",
      "220 8.216890623179118\n",
      "221 7.9048557172800535\n",
      "222 7.60505789018284\n",
      "223 7.316700135383426\n",
      "224 7.039432678599379\n",
      "225 6.772878786626473\n",
      "226 6.516747074651092\n",
      "227 6.270333729946479\n",
      "228 6.033466461529922\n",
      "229 5.805801061922376\n",
      "230 5.5865831189248265\n",
      "231 5.375745288939575\n",
      "232 5.173104145388207\n",
      "233 4.978233366479036\n",
      "234 4.790775951691099\n",
      "235 4.6104768036068995\n",
      "236 4.437160889503992\n",
      "237 4.270356059441277\n",
      "238 4.109939258625331\n",
      "239 3.9556929644649177\n",
      "240 3.807248842574248\n",
      "241 3.664460494119491\n",
      "242 3.527144413311101\n",
      "243 3.395084104858061\n",
      "244 3.2679570909601563\n",
      "245 3.1456669262141492\n",
      "246 3.0280257773960306\n",
      "247 2.914827890795703\n",
      "248 2.8059614984073837\n",
      "249 2.7012324014737827\n",
      "250 2.600430627862729\n",
      "251 2.503412667093295\n",
      "252 2.410157138407685\n",
      "253 2.320359443914561\n",
      "254 2.233915090328264\n",
      "255 2.1507778562376405\n",
      "256 2.070766477113554\n",
      "257 1.9937784042517408\n",
      "258 1.9196726750636217\n",
      "259 1.848386816881272\n",
      "260 1.7797624991048013\n",
      "261 1.713712800049255\n",
      "262 1.6501576662330089\n",
      "263 1.5889702483049402\n",
      "264 1.5301028003266905\n",
      "265 1.4734604076556754\n",
      "266 1.418899344802838\n",
      "267 1.3663775129444873\n",
      "268 1.3158574454195664\n",
      "269 1.2672470151521047\n",
      "270 1.2204262978867673\n",
      "271 1.1753380341485076\n",
      "272 1.1319625139655134\n",
      "273 1.0901864465845699\n",
      "274 1.0499685172102948\n",
      "275 1.0112703861695587\n",
      "276 0.9740189679061216\n",
      "277 0.9381272064043009\n",
      "278 0.9035909227214125\n",
      "279 0.8703347140805873\n",
      "280 0.8383155393093382\n",
      "281 0.8074830109148539\n",
      "282 0.7778208103390573\n",
      "283 0.7492337689148066\n",
      "284 0.7217100036124376\n",
      "285 0.6952282593501313\n",
      "286 0.669716597107731\n",
      "287 0.6451449493665162\n",
      "288 0.6215138559615443\n",
      "289 0.5987293428473359\n",
      "290 0.5767925292721567\n",
      "291 0.5556704891946556\n",
      "292 0.5353336463057304\n",
      "293 0.5157397284777796\n",
      "294 0.4968769289349171\n",
      "295 0.47871734056696946\n",
      "296 0.4612174054763356\n",
      "297 0.44436161462290996\n",
      "298 0.4281422824960172\n",
      "299 0.41251687512701507\n",
      "300 0.39746112092350094\n",
      "301 0.3829693421121917\n",
      "302 0.36900622774051794\n",
      "303 0.35555194105492494\n",
      "304 0.3425982806515892\n",
      "305 0.3301261876520193\n",
      "306 0.3181021870639784\n",
      "307 0.306520650810178\n",
      "308 0.2953725722684036\n",
      "309 0.2846303009587278\n",
      "310 0.2742899605893058\n",
      "311 0.2643257897394795\n",
      "312 0.2547234082876953\n",
      "313 0.24547096930000345\n",
      "314 0.23656113984620092\n",
      "315 0.22798123086396957\n",
      "316 0.21970657525894394\n",
      "317 0.2117358900247207\n",
      "318 0.20406466981206373\n",
      "319 0.19667085533704703\n",
      "320 0.18954358148043488\n",
      "321 0.182681219297335\n",
      "322 0.17606846284921676\n",
      "323 0.1696951997692625\n",
      "324 0.16355880947397552\n",
      "325 0.1576437960746696\n",
      "326 0.15194125357164798\n",
      "327 0.14644948842484823\n",
      "328 0.14116298948515435\n",
      "329 0.13606231374139255\n",
      "330 0.13114788455658347\n",
      "331 0.12641720573393664\n",
      "332 0.12185581872924062\n",
      "333 0.11746080532451506\n",
      "334 0.11322550787032601\n",
      "335 0.10914462131185772\n",
      "336 0.1052109509612485\n",
      "337 0.10142113957743867\n",
      "338 0.09776980999463604\n",
      "339 0.09424789445579157\n",
      "340 0.09085397832189762\n",
      "341 0.08758884398636786\n",
      "342 0.08443730540040441\n",
      "343 0.0813994821917377\n",
      "344 0.07847496984573772\n",
      "345 0.07565626725052405\n",
      "346 0.07293738939850428\n",
      "347 0.07031788443825626\n",
      "348 0.06779508070418601\n",
      "349 0.06536233814728595\n",
      "350 0.06301595082688127\n",
      "351 0.060756493622709865\n",
      "352 0.05857717451670755\n",
      "353 0.0564771119174054\n",
      "354 0.05445333646322416\n",
      "355 0.05250284159870672\n",
      "356 0.050622230237380876\n",
      "357 0.04880919041338491\n",
      "358 0.047062349532321565\n",
      "359 0.04537749132729105\n",
      "360 0.043753868706789725\n",
      "361 0.04218941316509194\n",
      "362 0.040680261498690445\n",
      "363 0.039225714191551526\n",
      "364 0.03782416642700258\n",
      "365 0.03647312453933961\n",
      "366 0.035170237683523606\n",
      "367 0.03391475306962274\n",
      "368 0.03270441985281368\n",
      "369 0.03153656558847303\n",
      "370 0.030411146744193387\n",
      "371 0.029327224564688063\n",
      "372 0.028280919032483753\n",
      "373 0.0272723758884471\n",
      "374 0.026300610453297506\n",
      "375 0.02536340032179485\n",
      "376 0.024459577303902354\n",
      "377 0.023588672640025933\n",
      "378 0.02274927338798911\n",
      "379 0.021939171268955678\n",
      "380 0.02115828426521686\n",
      "381 0.020405835848034525\n",
      "382 0.01967987060447178\n",
      "383 0.01898003109170551\n",
      "384 0.01830533906651008\n",
      "385 0.01765504133785447\n",
      "386 0.01702790606147186\n",
      "387 0.01642280882497528\n",
      "388 0.015839830053508978\n",
      "389 0.015277464323530651\n",
      "390 0.014735004809045134\n",
      "391 0.014212317659246356\n",
      "392 0.013708023228196834\n",
      "393 0.013221568784173913\n",
      "394 0.012752776000582765\n",
      "395 0.012300791106163932\n",
      "396 0.011864653694254193\n",
      "397 0.011444109957031995\n",
      "398 0.011038825333707626\n",
      "399 0.01064767184885464\n",
      "400 0.01027049603879776\n",
      "401 0.009907148947033479\n",
      "402 0.009556532624530358\n",
      "403 0.009218244260931287\n",
      "404 0.008892121450603835\n",
      "405 0.008577655573248624\n",
      "406 0.008274207319404918\n",
      "407 0.007981714483668415\n",
      "408 0.007699761741916631\n",
      "409 0.0074275675210570755\n",
      "410 0.007164995942406153\n",
      "411 0.006912013397764574\n",
      "412 0.006667986920954664\n",
      "413 0.006432540907016261\n",
      "414 0.006205497715481055\n",
      "415 0.005986560058295577\n",
      "416 0.005775248107301017\n",
      "417 0.005571439220726325\n",
      "418 0.005375073619625422\n",
      "419 0.0051854724178037005\n",
      "420 0.005002711363012315\n",
      "421 0.004826407620658269\n",
      "422 0.004656391437079262\n",
      "423 0.004492336898664575\n",
      "424 0.004334055866913141\n",
      "425 0.004181547949230889\n",
      "426 0.004034283405975329\n",
      "427 0.0038922134318448444\n",
      "428 0.0037552855343663365\n",
      "429 0.003623175331644465\n",
      "430 0.003495672963693487\n",
      "431 0.0033727094798816346\n",
      "432 0.003254176189309008\n",
      "433 0.0031397237747130594\n",
      "434 0.0030293642904065184\n",
      "435 0.0029229715059045517\n",
      "436 0.002820245354747364\n",
      "437 0.0027211340221306615\n",
      "438 0.002625582855074417\n",
      "439 0.002533418287568828\n",
      "440 0.002444451437976108\n",
      "441 0.0023586258349509387\n",
      "442 0.0022758993665409396\n",
      "443 0.002196006313802984\n",
      "444 0.0021189354341284773\n",
      "445 0.0020446846238656325\n",
      "446 0.001972991442851532\n",
      "447 0.0019037958295021365\n",
      "448 0.001837052193638119\n",
      "449 0.0017726954361288866\n",
      "450 0.001710561456822972\n",
      "451 0.0016506284858446144\n",
      "452 0.0015928553734532915\n",
      "453 0.001537083396426829\n",
      "454 0.001483255740858933\n",
      "455 0.0014313304263441121\n",
      "456 0.0013812581214028637\n",
      "457 0.0013329162762698854\n",
      "458 0.0012862753817278112\n",
      "459 0.0012413142996503942\n",
      "460 0.0011978813192792838\n",
      "461 0.0011559750194283843\n",
      "462 0.0011155741976734657\n",
      "463 0.0010765910808381686\n",
      "464 0.0010389566122569005\n",
      "465 0.001002643285112986\n",
      "466 0.0009676340185208299\n",
      "467 0.0009338225428954143\n",
      "468 0.0009012022969797152\n",
      "469 0.0008697504545249004\n",
      "470 0.0008393927086198481\n",
      "471 0.0008100844232662773\n",
      "472 0.0007818100128899621\n",
      "473 0.0007545417532148879\n",
      "474 0.0007282084790962031\n",
      "475 0.0007028000704432612\n",
      "476 0.000678307199355403\n",
      "477 0.000654653934844505\n",
      "478 0.00063182115391943\n",
      "479 0.0006098069773959667\n",
      "480 0.0005885638911119588\n",
      "481 0.0005680487154690645\n",
      "482 0.0005482531400057614\n",
      "483 0.0005291729700823752\n",
      "484 0.0005107373540491083\n",
      "485 0.0004929541648061486\n",
      "486 0.00047579346382851885\n",
      "487 0.00045923674331182514\n",
      "488 0.00044324574739912934\n",
      "489 0.000427816418634891\n",
      "490 0.0004129495682502083\n",
      "491 0.0003985780307681358\n",
      "492 0.0003847086850613721\n",
      "493 0.00037133532045138915\n",
      "494 0.0003584268022770319\n",
      "495 0.00034596108959943734\n",
      "496 0.000333933595082043\n",
      "497 0.00032233750031394144\n",
      "498 0.0003111313850986462\n",
      "499 0.0003003183919045609\n"
     ]
    }
   ],
   "source": [
    "import numpy as np\n",
    "\n",
    "# N is batch size; D_in is input dimension;\n",
    "# H is hidden dimension; D_out is output dimension.\n",
    "N, D_in, H, D_out = 64, 1000, 100, 10\n",
    "\n",
    "# Create random input and output data\n",
    "x = np.random.randn(N, D_in)\n",
    "y = np.random.randn(N, D_out)\n",
    "\n",
    "# Randomly initialize weights\n",
    "w1 = np.random.randn(D_in, H)\n",
    "w2 = np.random.randn(H, D_out)\n",
    "\n",
    "lr = 1e-6\n",
    "for t in range(500):\n",
    "    # Forward pass\n",
    "    h = x.dot(w1)\n",
    "    h_relu = np.maximum(h, 0)\n",
    "    y_pred = h_relu.dot(w2)\n",
    "    \n",
    "    # Compute and print loss\n",
    "    loss = np.square(y_pred - y).sum()\n",
    "    print(t, loss)\n",
    "    \n",
    "    # Backprop to computer gradients of w1 and w2 w.r.t. loss\n",
    "    grad_y_pred = 2.0 * (y_pred - y) # Euclidean distance\n",
    "    grad_w2 = h_relu.T.dot(grad_y_pred)\n",
    "    grad_h_relu = grad_y_pred.dot(w2.T)\n",
    "    grad_h = grad_h_relu.copy()\n",
    "    grad_h[h < 0] = 0\n",
    "    grad_w1 = x.T.dot(grad_h)\n",
    "    \n",
    "    # Update weights\n",
    "    w1 -= lr * grad_w1\n",
    "    w2 -= lr * grad_w2"
   ]
  },
  {
   "cell_type": "markdown",
   "metadata": {},
   "source": [
    "### PyTorch: Tensors"
   ]
  },
  {
   "cell_type": "markdown",
   "metadata": {},
   "source": [
    "Also unlike numpy, PyTorch Tensors can utilize GPUs to accelerate their numeric computations. To run a PyTorch Tensor on GPU, you simply need to cast it to a new datatype."
   ]
  },
  {
   "cell_type": "markdown",
   "metadata": {},
   "source": [
    "Here we use PyTorch Tensors to fit a two-layer network to random data. Like the numpy example above we need to manually implement the forward and backward passes through the network:"
   ]
  },
  {
   "cell_type": "code",
   "execution_count": 2,
   "metadata": {
    "collapsed": true
   },
   "outputs": [],
   "source": [
    "import torch"
   ]
  },
  {
   "cell_type": "code",
   "execution_count": 3,
   "metadata": {
    "collapsed": true
   },
   "outputs": [],
   "source": [
    "dtype = torch.float\n",
    "device = torch.device('cpu')\n",
    "# device = torch.device(\"cuda:0\") # Uncomment this to run on GPU"
   ]
  },
  {
   "cell_type": "code",
   "execution_count": 4,
   "metadata": {
    "collapsed": true
   },
   "outputs": [],
   "source": [
    "# N is batch size; D_in is input dimension;\n",
    "# H is hidden dimension; D_out is output dimension.\n",
    "N, D_in, H, D_out = 64, 1000, 100, 10"
   ]
  },
  {
   "cell_type": "code",
   "execution_count": 5,
   "metadata": {
    "collapsed": true
   },
   "outputs": [],
   "source": [
    "# Create random input and output data\n",
    "x = torch.randn(N, D_in, device=device, dtype=dtype)\n",
    "y = torch.randn(N, D_out, device=device, dtype=dtype)"
   ]
  },
  {
   "cell_type": "code",
   "execution_count": 6,
   "metadata": {
    "collapsed": true
   },
   "outputs": [],
   "source": [
    "# Randomly initialize weights\n",
    "w1 = torch.randn(D_in, H, device=device, dtype=dtype)\n",
    "w2 = torch.randn(H, D_out, device=device, dtype=dtype)"
   ]
  },
  {
   "cell_type": "code",
   "execution_count": 7,
   "metadata": {},
   "outputs": [
    {
     "name": "stdout",
     "output_type": "stream",
     "text": [
      "99 616.2571411132812\n",
      "199 6.43768310546875\n",
      "299 0.1556270718574524\n",
      "399 0.0047845314256846905\n",
      "499 0.0003574952424969524\n"
     ]
    }
   ],
   "source": [
    "lr = 1e-6\n",
    "for t in range(500):\n",
    "    # Forward pass\n",
    "    h = x.mm(w1)\n",
    "    h_relu = h.clamp(min=0)\n",
    "    y_pred = h_relu.mm(w2)\n",
    "    \n",
    "    # Compute and print loss\n",
    "    loss = (y_pred - y).pow(2).sum().item()\n",
    "    if t % 100 == 99:\n",
    "        print(t, loss)\n",
    "    # Backprop to compute gradients of w1 and w2 w.r.t. loss\n",
    "    grad_y_pred = 2.0 * (y_pred - y)\n",
    "    grad_w2 = h_relu.t().mm(grad_y_pred)\n",
    "    grad_h_relu = grad_y_pred.mm(w2.t())\n",
    "    grad_h = grad_h_relu.clone()\n",
    "    grad_h[h < 0] = 0\n",
    "    grad_w1 = x.t().mm(grad_h)\n",
    "    \n",
    "    # Update weights using gradient descent\n",
    "    w1 -= lr * grad_w1\n",
    "    w2 -= lr * grad_w2"
   ]
  },
  {
   "cell_type": "markdown",
   "metadata": {},
   "source": [
    "## Autograd"
   ]
  },
  {
   "cell_type": "markdown",
   "metadata": {},
   "source": [
    "### PyTorch: Tensors and autograd"
   ]
  },
  {
   "cell_type": "markdown",
   "metadata": {},
   "source": [
    "In the above examples, we had to manually implement both the forward and backward passes of our neural network. Manually implementing the backward pass is not a big deal for a small two-layer network, but can quickly get very hairy for large complex networks."
   ]
  },
  {
   "cell_type": "markdown",
   "metadata": {},
   "source": [
    "Thankfully, we can use <b>automatic differentiation</b> to automate the computation of backward passes in neural networks. The <b>autograd</b> package in PyTorch provides exactly this functionality. When using autograd, the forward pass of your network will define a <b>computational graph</b>; nodes in the graph will be Tensors, and edges will be functions that produce output Tensors from input Tensors. Backpropagating through this graph then allows you to easily compute gradients."
   ]
  },
  {
   "cell_type": "code",
   "execution_count": 8,
   "metadata": {
    "collapsed": true
   },
   "outputs": [],
   "source": [
    "import torch"
   ]
  },
  {
   "cell_type": "code",
   "execution_count": 9,
   "metadata": {
    "collapsed": true
   },
   "outputs": [],
   "source": [
    "dtype = torch.float\n",
    "device = torch.device('cpu')"
   ]
  },
  {
   "cell_type": "code",
   "execution_count": 10,
   "metadata": {
    "collapsed": true
   },
   "outputs": [],
   "source": [
    "# N is batch size; D_in is input dimension;\n",
    "# H is hidden dimension; D_out is output dimension.\n",
    "N, D_in, H, D_out = 64, 1000, 100, 10\n",
    "\n",
    "# Create random Tensors to hold input and outputs.\n",
    "# Setting requires_grad=False indicates that we do not need to compute gradients\n",
    "# with respect to these Tensors during the backward pass.\n",
    "x = torch.randn(N, D_in, device=device, dtype=dtype)\n",
    "y = torch.randn(N, D_out, device=device, dtype=dtype)\n",
    "\n",
    "# Create random Tensors for weights.\n",
    "# Setting requires_grad=True indicates that we want to compute gradients with\n",
    "# respect to these Tensors during the backward pass.\n",
    "w1 = torch.randn(D_in, H, device=device, dtype=dtype, requires_grad=True)\n",
    "w2 = torch.randn(H, D_out, device=device, dtype=dtype, requires_grad=True)"
   ]
  },
  {
   "cell_type": "code",
   "execution_count": 11,
   "metadata": {
    "scrolled": true
   },
   "outputs": [
    {
     "name": "stdout",
     "output_type": "stream",
     "text": [
      "the loss of epoch 99: 155.062744140625\n",
      "the loss of epoch 199: 0.3023970127105713\n",
      "the loss of epoch 299: 0.0012614316074177623\n",
      "the loss of epoch 399: 6.449854845413938e-05\n",
      "the loss of epoch 499: 1.8706752598518506e-05\n"
     ]
    }
   ],
   "source": [
    "lr = 1e-6\n",
    "for t in range(500):\n",
    "    y_pred = x.mm(w1).clamp(min=0).mm(w2)\n",
    "    \n",
    "    loss = (y_pred - y).pow(2).sum()\n",
    "    if t % 100 == 99:\n",
    "        print('the loss of epoch {}:'.format(t), loss.item())\n",
    "    \n",
    "    # Use autograd to compute the backward pass. This call will compute the\n",
    "    # gradient of loss with respect to all Tensors with requires_grad=True.\n",
    "    # After this call w1.grad and w2.grad will be Tensors holding the gradient\n",
    "    # of the loss with respect to w1 and w2 respectively.\n",
    "    loss.backward()\n",
    "    \n",
    "    # Manually update weights using gradient descent. Wrap in torch.no_grad()\n",
    "    # because weights have requires_grad=True, but we don't need to track this\n",
    "    # in autograd.\n",
    "    # An alternative way is to operate on weight.data and weight.grad.data.\n",
    "    # Recall that tensor.data gives a tensor that shares the storage with\n",
    "    # tensor, but doesn't track history.\n",
    "    # You can also use torch.optim.SGD to achieve this.\n",
    "    with torch.no_grad():\n",
    "        w1 -= lr * w1.grad\n",
    "        w2 -= lr * w2.grad\n",
    "        \n",
    "        # Manually zero the gradients after updating weights\n",
    "        w1.grad.zero_()\n",
    "        w2.grad.zero_()"
   ]
  },
  {
   "cell_type": "markdown",
   "metadata": {},
   "source": [
    "### PyTorch: Defining new autograd functions"
   ]
  },
  {
   "cell_type": "markdown",
   "metadata": {},
   "source": [
    "In PyTorch we can easily define our own autograd operator by defining a subclass of <b>torch.autograd.Function</b> and implementing the <b>forward</b> and <b>backward</b> functions. We can then use our new autograd operator by constructing an instance and calling it like a function, passing Tensors containing input data."
   ]
  },
  {
   "cell_type": "markdown",
   "metadata": {},
   "source": [
    "In this example we define our own custom autograd function for performing the ReLU nonlinearity, and use it to implement our two-layer network:"
   ]
  },
  {
   "cell_type": "code",
   "execution_count": 12,
   "metadata": {
    "collapsed": true
   },
   "outputs": [],
   "source": [
    "import torch"
   ]
  },
  {
   "cell_type": "code",
   "execution_count": 13,
   "metadata": {
    "collapsed": true
   },
   "outputs": [],
   "source": [
    "class MyReLU(torch.autograd.Function):\n",
    "    \"\"\"\n",
    "    We can implement our own custom autograd Functions by subclassing\n",
    "    torch.autograd.Function and implementing the forward and backward passes\n",
    "    which operate on Tensors.\n",
    "    \"\"\"\n",
    "    \n",
    "    @staticmethod\n",
    "    def forward(ctx, input):\n",
    "        \"\"\"\n",
    "        In the forward pass we receive a Tensor containing the input and return\n",
    "        a Tensor containing the output. ctx is a context object that can be used\n",
    "        to stash information for backward computation. You can cache arbitrary\n",
    "        objects for use in the backward pass using the ctx.save_for_backward method.\n",
    "        \"\"\"\n",
    "        ctx.save_for_backward(input)\n",
    "        return input.clamp(min=0)\n",
    "    \n",
    "    @staticmethod\n",
    "    def backward(ctx, grad_output):\n",
    "        \"\"\"\n",
    "        In the backward pass we receive a Tensor containing the gradient of the loss\n",
    "        with respect to the output, and we need to compute the gradient of the loss\n",
    "        with respect to the input.\n",
    "        \"\"\"\n",
    "        input, = ctx.saved_tensors\n",
    "        grad_input = grad_output.clone()\n",
    "        grad_input[input < 0] = 0\n",
    "        return grad_input"
   ]
  },
  {
   "cell_type": "code",
   "execution_count": 14,
   "metadata": {
    "collapsed": true
   },
   "outputs": [],
   "source": [
    "dtype = torch.float\n",
    "device = torch.device('cpu')\n",
    "\n",
    "N, D_in, H, D_out = 64, 1000, 1000, 10\n",
    "\n",
    "x = torch.randn(N, D_in, device=device, dtype=dtype)\n",
    "y = torch.randn(N, D_out, device=device, dtype=dtype)\n",
    "\n",
    "w1 = torch.randn(D_in, H, device=device, dtype=dtype, requires_grad=True)\n",
    "w2 = torch.randn(H, D_out, device=device, dtype=dtype, requires_grad=True)"
   ]
  },
  {
   "cell_type": "code",
   "execution_count": 15,
   "metadata": {},
   "outputs": [
    {
     "name": "stdout",
     "output_type": "stream",
     "text": [
      "loss of epoch 99 nan\n",
      "loss of epoch 199 nan\n",
      "loss of epoch 299 nan\n",
      "loss of epoch 399 nan\n",
      "loss of epoch 499 nan\n"
     ]
    }
   ],
   "source": [
    "lr = 1e-6\n",
    "for t in range(500):\n",
    "    # To apply our Function, we use Function.apply method. \n",
    "    # We alias this as 'relu'.\n",
    "    relu = MyReLU.apply\n",
    "    \n",
    "    # Forward paa\n",
    "    y_pred = relu(x.mm(w1)).mm(w2)\n",
    "    \n",
    "    # Compute and print loss\n",
    "    loss = (y_pred - y).pow(2).sum()\n",
    "    if t % 100 == 99:\n",
    "        print('loss of epoch {}'.format(t), loss.item())\n",
    "    \n",
    "    # Use autograd to compute the backward pass\n",
    "    loss.backward()\n",
    "    \n",
    "    # Update weights using gradient descent\n",
    "    with torch.no_grad():\n",
    "        w1 -= lr * w1.grad\n",
    "        w2 -= lr * w2.grad\n",
    "        \n",
    "        # Manually zero the gradients after updating weights\n",
    "        w1.grad.zero_()\n",
    "        w2.grad.zero_()"
   ]
  },
  {
   "cell_type": "markdown",
   "metadata": {
    "collapsed": true
   },
   "source": [
    "## nn Module"
   ]
  },
  {
   "cell_type": "markdown",
   "metadata": {},
   "source": [
    "### PyTorch: nn"
   ]
  },
  {
   "cell_type": "markdown",
   "metadata": {},
   "source": [
    "The <b>nn</b> package defines a set of <b>Modules</b>, which are roughly equivalent to neural network layers. A Module receives input Tensors and computes output Tensors, but may also hold internal state such as Tensors containing learnable parameters. The <b>nn</b> package also defines a set of useful loss functions that are commonly used when training neural networks."
   ]
  },
  {
   "cell_type": "markdown",
   "metadata": {},
   "source": [
    "In this example we use the <b>nn</b> package to implement our two-layer network:"
   ]
  },
  {
   "cell_type": "code",
   "execution_count": 16,
   "metadata": {
    "collapsed": true
   },
   "outputs": [],
   "source": [
    "import torch"
   ]
  },
  {
   "cell_type": "code",
   "execution_count": 17,
   "metadata": {},
   "outputs": [
    {
     "name": "stdout",
     "output_type": "stream",
     "text": [
      "99 2.4603281021118164\n",
      "199 0.041589848697185516\n",
      "299 0.0012026326730847359\n",
      "399 4.257793625583872e-05\n",
      "499 1.6535601616851636e-06\n"
     ]
    }
   ],
   "source": [
    "N, D_in, H, D_out = 64, 1000, 100, 10\n",
    "\n",
    "x = torch.randn(N, D_in)\n",
    "y = torch.randn(N, D_out)\n",
    "\n",
    "# Use the nn package to define our model as a sequence of layers. nn.Sequential\n",
    "# is a Module which contains other Modules, and applies them in sequence to\n",
    "# produce its output. Each Linear Module computes output from input using a\n",
    "# linear function, and holds internal Tensors for its weight and bias.\n",
    "model = torch.nn.Sequential(\n",
    "    torch.nn.Linear(D_in, H),\n",
    "    torch.nn.ReLU(),\n",
    "    torch.nn.Linear(H, D_out)\n",
    ")\n",
    "\n",
    "# The nn package also contains definitions of popular loss functions; in this\n",
    "# case we will use Mean Squared Error (MSE) as our loss function.\n",
    "loss_fn = torch.nn.MSELoss(reduction='sum')\n",
    "\n",
    "lr = 1e-4\n",
    "for t in range(500):\n",
    "    # Forward pass: compute predicted y by passing x to the model. Module objects\n",
    "    # override the __call__ operator so you can call them like functions. When\n",
    "    # doing so you pass a Tensor of input data to the Module and it produces\n",
    "    # a Tensor of output data.\n",
    "    y_pred = model(x)\n",
    "    \n",
    "    # Compute and print loss. We pass Tensors containing the predicted and true\n",
    "    # values of y, and the loss function returns a Tensor containing the\n",
    "    # loss.\n",
    "    loss = loss_fn(y_pred, y)\n",
    "    if t % 100 == 99:\n",
    "        print(t, loss.item())\n",
    "        \n",
    "    # Zero the gradients before running the backward pass.\n",
    "    model.zero_grad()\n",
    "    \n",
    "    # # Backward pass: compute gradient of the loss with respect to all the learnable\n",
    "    # parameters of the model. Internally, the parameters of each Module are stored\n",
    "    # in Tensors with requires_grad=True, so this call will compute gradients for\n",
    "    # all learnable parameters in the model.\n",
    "    loss.backward()\n",
    "    \n",
    "    # Update the weights using gradient descent. Each parameter is a Tensor, so\n",
    "    # we can access its gradients like we did before.\n",
    "    with torch.no_grad():\n",
    "        for param in model.parameters():\n",
    "            param -= lr * param.grad    "
   ]
  },
  {
   "cell_type": "markdown",
   "metadata": {},
   "source": [
    "### PyTorch: optim"
   ]
  },
  {
   "cell_type": "markdown",
   "metadata": {},
   "source": [
    "The <b>optim</b> package in PyTorch abstracts the idea of an optimization algorithm and provides implementations of commonly used optimization algorithms."
   ]
  },
  {
   "cell_type": "markdown",
   "metadata": {},
   "source": [
    "In this example we will use the <b>nn</b> package to define our model as before, but we will optimize the model using the Adam algorithm provided by the <b>optim</b> package:"
   ]
  },
  {
   "cell_type": "code",
   "execution_count": 18,
   "metadata": {
    "collapsed": true
   },
   "outputs": [],
   "source": [
    "import torch\n",
    "\n",
    "N, D_in, H, D_out = 64, 1000, 100, 10\n",
    "\n",
    "x = torch.randn(N, D_in)\n",
    "y = torch.randn(N, D_out)\n",
    "\n",
    "model = torch.nn.Sequential(\n",
    "    torch.nn.Linear(D_in, H),\n",
    "    torch.nn.ReLU(),\n",
    "    torch.nn.Linear(H, D_out)\n",
    ")\n",
    "\n",
    "loss_fn = torch.nn.MSELoss(reduction='sum')"
   ]
  },
  {
   "cell_type": "code",
   "execution_count": 19,
   "metadata": {},
   "outputs": [
    {
     "name": "stdout",
     "output_type": "stream",
     "text": [
      "99 54.34068298339844\n",
      "199 0.9342947006225586\n",
      "299 0.0066838338971138\n",
      "399 4.871887358603999e-05\n",
      "499 4.200252590180753e-07\n"
     ]
    }
   ],
   "source": [
    "lr = 1e-4\n",
    "\n",
    "optimizer = torch.optim.Adam(model.parameters(), lr=lr)\n",
    "\n",
    "for t in range(500):\n",
    "    y_pred = model(x)\n",
    "    \n",
    "    loss = loss_fn(y_pred, y)\n",
    "    if t % 100 == 99:\n",
    "        print(t, loss.item())\n",
    "        \n",
    "    optimizer.zero_grad()\n",
    "    \n",
    "    loss.backward()\n",
    "    \n",
    "    optimizer.step()"
   ]
  },
  {
   "cell_type": "markdown",
   "metadata": {},
   "source": [
    "### PyTorch: Custom nn Modules"
   ]
  },
  {
   "cell_type": "markdown",
   "metadata": {},
   "source": [
    "Sometimes you will want to specify models that are more complex than a sequence of existing Modules; for these cases you can define your own Modules by subclassing <b>nn.Module</b> and defining a <b>forward</b> which receives input Tensors and produces output Tensors using other modules or other autograd operations on Tensors."
   ]
  },
  {
   "cell_type": "markdown",
   "metadata": {
    "collapsed": true
   },
   "source": [
    "In this example we implement our two-layer network as a custom Module subclass:"
   ]
  },
  {
   "cell_type": "code",
   "execution_count": 20,
   "metadata": {
    "collapsed": true
   },
   "outputs": [],
   "source": [
    "import torch"
   ]
  },
  {
   "cell_type": "code",
   "execution_count": 31,
   "metadata": {
    "collapsed": true
   },
   "outputs": [],
   "source": [
    "class TwoLayerNet(torch.nn.Module):\n",
    "    def __init__(self, D_in, H, D_out):\n",
    "        \"\"\"\n",
    "        In the constructor we instantiate two nn.Linear modules and \n",
    "        assign them as member variables.\n",
    "        \"\"\"\n",
    "        super(TwoLayerNet, self).__init__()\n",
    "        self.linear1 = torch.nn.Linear(D_in, H)\n",
    "        self.linear2 = torch.nn.Linear(H, D_out)\n",
    "        \n",
    "    def forward(self, x):\n",
    "        \"\"\"\n",
    "        In the forward function we accept a Tensor of input data and we\n",
    "        must return a Tensor of output data. We can use Modules defined \n",
    "        in the constructor as well as arbitrary operators on Tensors.\n",
    "        \"\"\"\n",
    "        h_relu = self.linear1(x).clamp(min=0)\n",
    "        y_pred = self.linear2(h_relu)\n",
    "        return y_pred"
   ]
  },
  {
   "cell_type": "code",
   "execution_count": 32,
   "metadata": {
    "collapsed": true
   },
   "outputs": [],
   "source": [
    "N, D_in, H, D_out = 64, 1000, 100, 10"
   ]
  },
  {
   "cell_type": "code",
   "execution_count": 33,
   "metadata": {
    "collapsed": true
   },
   "outputs": [],
   "source": [
    "x = torch.randn(N, D_in)\n",
    "y = torch.randn(N, D_out)"
   ]
  },
  {
   "cell_type": "code",
   "execution_count": 34,
   "metadata": {},
   "outputs": [],
   "source": [
    "model = TwoLayerNet(D_in, H, D_out)"
   ]
  },
  {
   "cell_type": "code",
   "execution_count": 35,
   "metadata": {
    "collapsed": true
   },
   "outputs": [],
   "source": [
    "criterion = torch.nn.MSELoss(reduction='sum')\n",
    "optimizer = torch.optim.SGD(model.parameters(), lr=1e-4)"
   ]
  },
  {
   "cell_type": "code",
   "execution_count": 36,
   "metadata": {},
   "outputs": [
    {
     "name": "stdout",
     "output_type": "stream",
     "text": [
      "loss of epoch 99: 2.380481243133545\n",
      "loss of epoch 199: 0.0460839606821537\n",
      "loss of epoch 299: 0.0017332186689600348\n",
      "loss of epoch 399: 9.43930572248064e-05\n",
      "loss of epoch 499: 6.068229595257435e-06\n"
     ]
    }
   ],
   "source": [
    "for t in range(500):\n",
    "    # Forward pass\n",
    "    y_pred = model(x)\n",
    "    \n",
    "    # Compute and print loss\n",
    "    loss = criterion(y_pred, y)\n",
    "    if t % 100 == 99:\n",
    "        print('loss of epoch {}:'.format(t), loss.item())\n",
    "        \n",
    "    # Zero gradients, perform backprop, and update weights\n",
    "    optimizer.zero_grad()\n",
    "    loss.backward()\n",
    "    optimizer.step()"
   ]
  },
  {
   "cell_type": "markdown",
   "metadata": {},
   "source": [
    "### PyTorch: Control Flow + Weight Sharing"
   ]
  },
  {
   "cell_type": "markdown",
   "metadata": {},
   "source": [
    "As an example of dynamic graphs and weight sharing, we implement a very strange model: a fully-connected ReLU network that on each forward pass chooses a random number between 1 and 4 and uses that many hidden layers, reusing the same weights multiple times to compute the innermost hidden layers."
   ]
  },
  {
   "cell_type": "markdown",
   "metadata": {},
   "source": [
    "For this model we can use normal Python flow control to implement the loop, and we can implement weight sharing among the innermost layers by simply reusing the same Module multiple times when defining the forward pass."
   ]
  },
  {
   "cell_type": "markdown",
   "metadata": {},
   "source": [
    "We can easily implement this model as a Module subclass:"
   ]
  },
  {
   "cell_type": "code",
   "execution_count": 37,
   "metadata": {
    "collapsed": true
   },
   "outputs": [],
   "source": [
    "import random\n",
    "import torch"
   ]
  },
  {
   "cell_type": "code",
   "execution_count": 44,
   "metadata": {
    "collapsed": true
   },
   "outputs": [],
   "source": [
    "class DynamicNet(torch.nn.Module):\n",
    "    \n",
    "    def __init__(self, D_in, H, D_out):\n",
    "        \"\"\"\n",
    "        In the constructor we construct three nn.Linear instances that we will use\n",
    "        in the forward pass.\n",
    "        \"\"\"\n",
    "        super(DynamicNet, self).__init__()\n",
    "        self.input_linear = torch.nn.Linear(D_in, H)\n",
    "        self.middle_linear = torch.nn.Linear(H, H)\n",
    "        self.output_linear = torch.nn.Linear(H, D_out)\n",
    "        \n",
    "    def forward(self, x):\n",
    "        \"\"\"\n",
    "        For the forward pass of the model, we randomly choose either 0, 1, 2, or 3\n",
    "        and reuse the middle_linear Module that many times to compute hidden layer\n",
    "        representations.\n",
    "\n",
    "        Since each forward pass builds a dynamic computation graph, we can use normal\n",
    "        Python control-flow operators like loops or conditional statements when\n",
    "        defining the forward pass of the model.\n",
    "\n",
    "        Here we also see that it is perfectly safe to reuse the same Module many\n",
    "        times when defining a computational graph. This is a big improvement from Lua\n",
    "        Torch, where each Module could be used only once.\n",
    "        \"\"\"\n",
    "        h_relu = self.input_linear(x).clamp(min=0)\n",
    "        for _ in range(random.randint(0, 3)):\n",
    "            h_relu = self.middle_linear(h_relu).clamp(min=0)\n",
    "        \n",
    "        y_pred = self.output_linear(h_relu)\n",
    "        return y_pred"
   ]
  },
  {
   "cell_type": "code",
   "execution_count": 39,
   "metadata": {
    "collapsed": true
   },
   "outputs": [],
   "source": [
    "N, D_in, H, D_out = 64, 1000, 100, 10"
   ]
  },
  {
   "cell_type": "code",
   "execution_count": 40,
   "metadata": {
    "collapsed": true
   },
   "outputs": [],
   "source": [
    "x = torch.randn(N, D_in)\n",
    "y = torch.randn(N, D_out)"
   ]
  },
  {
   "cell_type": "code",
   "execution_count": 46,
   "metadata": {
    "collapsed": true
   },
   "outputs": [],
   "source": [
    "model = DynamicNet(D_in, H, D_out)"
   ]
  },
  {
   "cell_type": "code",
   "execution_count": 42,
   "metadata": {
    "collapsed": true
   },
   "outputs": [],
   "source": [
    "criterion = torch.nn.MSELoss(reduction='sum')\n",
    "optimizer = torch.optim.SGD(model.parameters(), lr=1e-4, momentum=0.9)"
   ]
  },
  {
   "cell_type": "code",
   "execution_count": 47,
   "metadata": {},
   "outputs": [
    {
     "name": "stdout",
     "output_type": "stream",
     "text": [
      "loss of epoch 99 665.8496704101562\n",
      "loss of epoch 199 639.0000610351562\n",
      "loss of epoch 299 634.5841064453125\n",
      "loss of epoch 399 639.0000610351562\n",
      "loss of epoch 499 639.0000610351562\n"
     ]
    }
   ],
   "source": [
    "for t in range(500):\n",
    "    # Forward pass\n",
    "    y_pred = model(x)\n",
    "    \n",
    "    # Compute and print loss\n",
    "    loss = criterion(y_pred, y)\n",
    "    if t % 100 == 99:\n",
    "        print('loss of epoch {}'.format(t), loss.item())\n",
    "        \n",
    "    # Zero gradients, perform backprop, and update weights\n",
    "    optimizer.zero_grad()\n",
    "    loss.backward()\n",
    "    optimizer.step()"
   ]
  }
 ],
 "metadata": {
  "kernelspec": {
   "display_name": "Python 3",
   "language": "python",
   "name": "python3"
  },
  "language_info": {
   "codemirror_mode": {
    "name": "ipython",
    "version": 3
   },
   "file_extension": ".py",
   "mimetype": "text/x-python",
   "name": "python",
   "nbconvert_exporter": "python",
   "pygments_lexer": "ipython3",
   "version": "3.6.9"
  }
 },
 "nbformat": 4,
 "nbformat_minor": 2
}
